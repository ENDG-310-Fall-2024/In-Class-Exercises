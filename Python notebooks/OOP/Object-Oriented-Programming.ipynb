{
 "cells": [
  {
   "cell_type": "markdown",
   "metadata": {},
   "source": [
    "# Object Oriented Programming\n",
    "Introduction to Classes and Objects\n",
    "\n",
    "\n",
    "Python is fully OOP based language which means everything is an object of a class"
   ]
  },
  {
   "cell_type": "code",
   "execution_count": 34,
   "metadata": {},
   "outputs": [
    {
     "name": "stdout",
     "output_type": "stream",
     "text": [
      "<class 'dict'>\n"
     ]
    },
    {
     "data": {
      "text/plain": [
       "['__class__',\n",
       " '__class_getitem__',\n",
       " '__contains__',\n",
       " '__delattr__',\n",
       " '__delitem__',\n",
       " '__dir__',\n",
       " '__doc__',\n",
       " '__eq__',\n",
       " '__format__',\n",
       " '__ge__',\n",
       " '__getattribute__',\n",
       " '__getitem__',\n",
       " '__getstate__',\n",
       " '__gt__',\n",
       " '__hash__',\n",
       " '__init__',\n",
       " '__init_subclass__',\n",
       " '__ior__',\n",
       " '__iter__',\n",
       " '__le__',\n",
       " '__len__',\n",
       " '__lt__',\n",
       " '__ne__',\n",
       " '__new__',\n",
       " '__or__',\n",
       " '__reduce__',\n",
       " '__reduce_ex__',\n",
       " '__repr__',\n",
       " '__reversed__',\n",
       " '__ror__',\n",
       " '__setattr__',\n",
       " '__setitem__',\n",
       " '__sizeof__',\n",
       " '__str__',\n",
       " '__subclasshook__',\n",
       " 'clear',\n",
       " 'copy',\n",
       " 'fromkeys',\n",
       " 'get',\n",
       " 'items',\n",
       " 'keys',\n",
       " 'pop',\n",
       " 'popitem',\n",
       " 'setdefault',\n",
       " 'update',\n",
       " 'values']"
      ]
     },
     "execution_count": 34,
     "metadata": {},
     "output_type": "execute_result"
    }
   ],
   "source": [
    "dict1= {\"item1\":2}\n",
    "print(type(dict1))\n",
    "dir(dict1)"
   ]
  },
  {
   "cell_type": "markdown",
   "metadata": {},
   "source": [
    "## Classes\n",
    "A class is a template/Blueprint that provides an encapsulated container representing an item ... item here is any complex object that we would like to regenerate many times.\\\n",
    "Consider it a factory of some sort that will create clones that are not identical, but rather unique in their feature values based on the constructor of the class\n",
    "\n",
    "This template provides all information needed about the item to be created which breaks down into 2 main parts:\n",
    "- __Attributes__: variables and values that describe the item/object\n",
    "- __Methods__: a key term used for functions that are embedded in the Class describing the functional operations of the item\n",
    "\n",
    "As mentioned above, Each Class will have a special method called a constructor that is in the form of \\_\\_init\\_\\_ ().\\\n",
    "This Constructor is reponsible for the creation of objects from the class, and is used to initalize some or all of the object varbiables/attributes.\\\n",
    "The Constructor works exactly like any other function, it can have default values defined in it so we can call it without passing arguments which is known as a default constructor"
   ]
  },
  {
   "cell_type": "code",
   "execution_count": 36,
   "metadata": {},
   "outputs": [],
   "source": [
    "class student:\n",
    "    \"\"\" A class representing a student \"\"\"\n",
    "\n",
    "    def __init__ (self):\n",
    "        print(\"created\")\n",
    "\n",
    "    def fun():\n",
    "        print(\"does nothing\")\n",
    "\n"
   ]
  },
  {
   "cell_type": "markdown",
   "metadata": {},
   "source": [
    "The ___Self___ keyword used above is a reference to the object the Method is operating from within.\\\n",
    "In the case of the constructor, self will be assigned as a variable name of sorts to the object being created so we can access it's member variables and functions\n",
    "In the case of other methods and members fucntions, the self will reference the object that we invoked the function from within ... remember that aa memebr function is something we have delt with before and looks like this when called     --> ___obj_name.methond_name()___.\\\n",
    "self in that case is referenceing the __obj_name__.\n",
    "\n",
    "\n",
    "Creating an object of a class is simply done through using the ___class_name(arguments)___ format as shown in the following example. This will call the init method and pass the arguments to it to create the object.\n",
    "\n",
    "Note that in the Class definition, all methods will include self as the first parameter in their definition, that is again because these methods require a reference to the object they are operation on to get the values stored in that object. But when calling these functions we will never use self or even pass any argument for it, that is because python will automatically send the object reference as first argument, so even when you call a method without argments sent there will always be one hidden that gets sent.\n",
    "\n",
    "You do not need to worry about destroying and freeing an object, Python has a garbage collector that will do it for you. But if you want you can still define a destructorand it is named \\_\\_del\\_\\_(self)"
   ]
  },
  {
   "cell_type": "code",
   "execution_count": null,
   "metadata": {},
   "outputs": [],
   "source": [
    "S1 = student(\"Bob\", 21)\n",
    "print(S1)"
   ]
  },
  {
   "cell_type": "markdown",
   "metadata": {},
   "source": [
    "## Accessing member variable of a class\n",
    "Member variables of an object of a class can be directly accessed through the dot operator.\\\n",
    "This is usually not recommended for multiple reasons, including:\n",
    "- security\n",
    "- runtime defined variables\\\n",
    "and instead we use defined methods that are labeled as ___setters___ and ___getters___\\\n",
    "setters and getters will mostly address the issue of security, but for the case of a runtime defined variable we use the universal getter (___getattr___) and setter (___setattr___).\n",
    "\n",
    "And to avoid runtime issues, you should always check for an attribute if it exists first before using the set and get attribute universal methods by using the ___hasattr___ function"
   ]
  },
  {
   "cell_type": "code",
   "execution_count": null,
   "metadata": {},
   "outputs": [],
   "source": [
    "class student:\n",
    "    \"\"\"A class representing a student \"\"\"\n",
    "\n",
    "    # class variable shared accross all objects\n",
    "    student_counter = 0\n",
    "\n",
    "\n",
    "    def __init__(self,n,a): \n",
    "        self.full_name = n \n",
    "        self.age = a\n",
    "        student.student_counter += 1\n",
    "    \"\"\"getter function that returns the value of a specific member variable\"\"\"\n",
    "    def get_age(self): \n",
    "        return self.age\n",
    "    \n",
    "\n",
    "\n",
    "S1 = student(\"Bobby Johns\" , 30)\n",
    "print(S1.full_name)\n",
    "print(S1.age)\n",
    "print(S1.get_age())\n",
    "if hasattr(S1,\"full_name\"):\n",
    "    print(getattr(S1,\"full_name\"))\n",
    "    setattr(S1,\"full_name\",\"Maan Khedr\")\n",
    "    print(getattr(S1,\"full_name\"))\n",
    "\n",
    "print(S1.student_counter)"
   ]
  },
  {
   "cell_type": "code",
   "execution_count": null,
   "metadata": {},
   "outputs": [],
   "source": [
    "# another example of data vs class attributes\n",
    "\n",
    "class counter: \n",
    "    overall_total = 0\n",
    "    # class attribute\n",
    "    def __init__(self):\n",
    "        self.my_total = 0\n",
    "    # data attribute\n",
    "    def increment(self): \n",
    "        counter.overall_total = counter.overall_total + 1 \n",
    "        self.my_total = self.my_total + 1\n",
    "\n",
    "\n",
    "a = counter()\n",
    "b = counter()\n",
    "a.increment()\n",
    "b.increment()\n",
    "b.increment()\n",
    "print(a.overall_total)\n",
    "print(a.my_total)\n",
    "print(b.overall_total)\n",
    "print(b.my_total)"
   ]
  },
  {
   "cell_type": "markdown",
   "metadata": {},
   "source": [
    "## Inheritence\n",
    "Allows for new classes to inherit and extend existing classes.\\\n",
    "For example if we have a class vehicle that has all common features and functionalities of vehicles, there should still be some distinction of what type of vehicle we are working with. For that different classes representing different categories of vehicles (cars, motorcycles, etc..) would be implemented and they would inherit the vehicle class instead of redunduntly redefining everything in each of these categories.\n",
    "- The inherting classes are known as: _subclass_, or _child_\n",
    "- The inherited classes are known as: _superclass_, or _parent_\n"
   ]
  },
  {
   "cell_type": "code",
   "execution_count": null,
   "metadata": {},
   "outputs": [],
   "source": [
    "class Cs_student(student):\n",
    "    \"\"\"A class extending student.\"\"\"\n",
    "    def __init__(self,n,a,s):\n",
    "        student.__init__(self,n,a) #Call   init   for student, Also the only case you will explicitly send self to a function call\n",
    "        self.section_num = s\n",
    "    def get_age(self):\t\n",
    "        #Redefines get_age method entirely \n",
    "        print(\"Age: \" + str(self.age))\n",
    "\n",
    "S2 = Cs_student(\"M Khedr\", 38, 1)\n",
    "S2.get_age()"
   ]
  },
  {
   "cell_type": "markdown",
   "metadata": {},
   "source": [
    "Any Class you define automatically inherits the base class _object_ which provides base magic functions and member attributes.\\\n",
    "You can then redifine any of the magic functions inherited to do what you want them to do for your implemented class"
   ]
  },
  {
   "cell_type": "code",
   "execution_count": null,
   "metadata": {},
   "outputs": [],
   "source": [
    "class emptyshell():\n",
    "    def __init__(self):\n",
    "        print(\"created\")\n",
    "\n",
    "e = emptyshell()\n",
    "e.__dir__()"
   ]
  },
  {
   "cell_type": "code",
   "execution_count": null,
   "metadata": {},
   "outputs": [],
   "source": [
    "class student:\n",
    "    \"\"\"A class representing a student \"\"\"\n",
    "\n",
    "    # class variable shared accross all objects\n",
    "    student_counter = 0\n",
    "\n",
    "\n",
    "    def __init__(self,n,a): \n",
    "        self.full_name = n \n",
    "        self.age = a\n",
    "        student.student_counter += 1\n",
    "    \"\"\"getter function that returns the value of a specific member variable\"\"\"\n",
    "    def get_age(self): \n",
    "        return self.age\n",
    "    \n",
    "    def __repr__(self):\n",
    "        return \"Student name: \" + self.full_name + \"\\nStudent age: \" + str(self.age)\n",
    "\n",
    "\n",
    "S1 = student(\"Maan Khedr\", 38)\n",
    "print(S1)\n",
    "S2 = S1\n",
    "S2.age = 30\n",
    "print(S2)\n",
    "print(S1)\n",
    "\n",
    "\n"
   ]
  },
  {
   "cell_type": "markdown",
   "metadata": {},
   "source": [
    "Python doesnt really employ accessor level privacy like other languages.\\\n",
    "But it still provides ways of denoting what level of access a variable should be through the use of underscores"
   ]
  },
  {
   "cell_type": "code",
   "execution_count": null,
   "metadata": {},
   "outputs": [],
   "source": [
    "class Test:\n",
    "    def __init__(self): \n",
    "        self.foo = 11\n",
    "        self.__bar = 23\n",
    "\n",
    "t = Test() \n",
    "print(t.foo)\n",
    "print(t._Test__bar)\n"
   ]
  }
 ],
 "metadata": {
  "kernelspec": {
   "display_name": "Python 3",
   "language": "python",
   "name": "python3"
  },
  "language_info": {
   "codemirror_mode": {
    "name": "ipython",
    "version": 3
   },
   "file_extension": ".py",
   "mimetype": "text/x-python",
   "name": "python",
   "nbconvert_exporter": "python",
   "pygments_lexer": "ipython3",
   "version": "3.11.1"
  }
 },
 "nbformat": 4,
 "nbformat_minor": 2
}
